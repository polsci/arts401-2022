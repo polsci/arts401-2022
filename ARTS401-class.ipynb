{
 "cells": [
  {
   "cell_type": "markdown",
   "metadata": {},
   "source": [
    "# ARTS401 Digital Methods Class\n",
    "\n",
    "This notebook will get you to run some code to get some text data and start exploring it.\n",
    "\n",
    "The idea is that you change small things to collect and analyse your own data.\n",
    "\n",
    "The intention is that you learn in a practical way about the decisions and limitations related to this this kind of research."
   ]
  },
  {
   "cell_type": "markdown",
   "metadata": {},
   "source": [
    "## What is this?\n",
    "\n",
    "This is a Jupyter Notebook - it is designed to run code with some explanation. In the next cell we import code we need to make the rest of this notebook work. Just click Run above."
   ]
  },
  {
   "cell_type": "code",
   "execution_count": null,
   "metadata": {},
   "outputs": [],
   "source": [
    "import digi\n",
    "import spacy\n",
    "from nltk import Text\n",
    "from nltk.corpus import PlaintextCorpusReader\n",
    "import matplotlib.pyplot as plt\n",
    "from wordcloud import WordCloud"
   ]
  },
  {
   "cell_type": "markdown",
   "metadata": {},
   "source": [
    "## Change your first line of code ...\n",
    "\n",
    "Change the name below from Geoff to your name and then run it."
   ]
  },
  {
   "cell_type": "code",
   "execution_count": null,
   "metadata": {},
   "outputs": [],
   "source": [
    "first_name = 'Geoff'\n",
    "\n",
    "print(first_name,digi.message)"
   ]
  },
  {
   "cell_type": "markdown",
   "metadata": {},
   "source": [
    "## Fix a line of code ...\n",
    "\n",
    "The next line will error. It isn't the end of the world! See if you can work out what you need to do to fix the line that starts\n",
    "`label = `\n",
    "\n",
    "This might happen during this class. It isn't the end of the world. It could be minor mistake that we can fix. It might be there is some mismatch between the code I wrote and the website we are scraping. I'm here to help - just ask!"
   ]
  },
  {
   "cell_type": "code",
   "execution_count": null,
   "metadata": {},
   "outputs": [],
   "source": [
    "label = 'Hacker\n",
    "\n",
    "print(digi.message_debug,label)"
   ]
  },
  {
   "cell_type": "markdown",
   "metadata": {},
   "source": [
    "## Scope a site to scrape\n",
    "\n",
    "Enter a URL to look at the HTML source."
   ]
  },
  {
   "cell_type": "code",
   "execution_count": null,
   "metadata": {},
   "outputs": [],
   "source": [
    "# define the url we want as a string\n",
    "url = 'https://www.stuff.co.nz/national/politics'\n",
    "\n",
    "digi.preview_html(url)"
   ]
  },
  {
   "cell_type": "markdown",
   "metadata": {},
   "source": [
    "## Scope the pages with text"
   ]
  },
  {
   "cell_type": "code",
   "execution_count": null,
   "metadata": {},
   "outputs": [],
   "source": [
    "# define the url we want as a string\n",
    "url = 'https://www.stuff.co.nz/national/politics/opinion/128514575/budget-2022-the-spending-season-gets-some-new-rules-from-grant-robertson'\n",
    "digi.preview_text(url)"
   ]
  },
  {
   "cell_type": "markdown",
   "metadata": {},
   "source": [
    "## Scope retrieving some pages\n",
    "\n",
    "In the next cell - the start variable is the page you want to start from. The code looks for any links that contain the text in the variable url_must_contain. Try it!"
   ]
  },
  {
   "cell_type": "code",
   "execution_count": null,
   "metadata": {},
   "outputs": [],
   "source": [
    "start = 'https://www.stuff.co.nz/national/politics/opinion'\n",
    "url_must_contain = 'https://www.stuff.co.nz/national/politics/opinion/'\n",
    "\n",
    "digi.preview_links(start, url_must_contain)"
   ]
  },
  {
   "cell_type": "markdown",
   "metadata": {},
   "source": [
    "## Crawl the site and create a small text corpus"
   ]
  },
  {
   "cell_type": "code",
   "execution_count": null,
   "metadata": {},
   "outputs": [],
   "source": [
    "start = 'https://www.stuff.co.nz/national/politics/opinion'\n",
    "url_must_contain = 'https://www.stuff.co.nz/national/politics/opinion/'\n",
    "corpus_dir = 'stuff-example-corpus'\n",
    "rough_clean = True\n",
    "\n",
    "digi.crawl_links(start, url_must_contain, corpus_dir, rough_clean=rough_clean)"
   ]
  },
  {
   "cell_type": "markdown",
   "metadata": {},
   "source": [
    "## Ok, your turn ...\n",
    "\n",
    "Try a different site. You could use one of the following to scrape different sites or you could find something you are interested in and change the settings for that website. I'm here to help.\n",
    "\n",
    "Note: this code won't work with every website! That's ok. Just try another.\n",
    "\n",
    "```\n",
    "start = 'https://www.rnz.co.nz/news/business'\n",
    "url_must_contain = 'https://www.rnz.co.nz/news/business'\n",
    "corpus_dir = 'rnz-example-corpus'\n",
    "\n",
    "start = 'https://www.beehive.govt.nz/search?f%5B0%5D=content_type_facet%3Aspeech&f%5B1%5D=government_facet%3A6064'\n",
    "url_must_contain = 'https://www.beehive.govt.nz/speech/'\n",
    "corpus_dir = 'beehive-example-corpus'\n",
    "\n",
    "start = 'https://www.nationaldefensemagazine.org/articles'\n",
    "url_must_contain = 'https://www.nationaldefensemagazine.org/articles/2022/'\n",
    "corpus_dir = 'nationaldefense-example-corpus'\n",
    "\n",
    "start = 'https://www.stuff.co.nz/national/politics/opinion'\n",
    "url_must_contain = 'https://www.stuff.co.nz/national/politics/opinion/'\n",
    "corpus_dir = 'stuff-example-corpus'\n",
    "```"
   ]
  },
  {
   "cell_type": "markdown",
   "metadata": {},
   "source": [
    "## Now look at the data we collected ...\n",
    "\n",
    "This should match a corpus_dir for something you have already collected. If you don't see some output talk to Geoff."
   ]
  },
  {
   "cell_type": "code",
   "execution_count": null,
   "metadata": {},
   "outputs": [],
   "source": [
    "corpus_dir = 'stuff-example-corpus'\n",
    "\n",
    "texts = digi.load_texts(corpus_dir)\n",
    "\n",
    "print(len(texts), 'texts loaded')\n",
    "\n",
    "print('First text:')\n",
    "\n",
    "print(texts[0])"
   ]
  },
  {
   "cell_type": "markdown",
   "metadata": {},
   "source": [
    "## Download a language model ..."
   ]
  },
  {
   "cell_type": "code",
   "execution_count": 1,
   "metadata": {},
   "outputs": [
    {
     "name": "stdout",
     "output_type": "stream",
     "text": [
      "Requirement already satisfied: en_core_web_sm==2.1.0 from https://github.com/explosion/spacy-models/releases/download/en_core_web_sm-2.1.0/en_core_web_sm-2.1.0.tar.gz#egg=en_core_web_sm==2.1.0 in c:\\users\\geoff\\anaconda3\\envs\\digi405\\lib\\site-packages (2.1.0)\n",
      "[+] Download and installation successful\n",
      "You can now load the model via spacy.load('en_core_web_sm')\n"
     ]
    }
   ],
   "source": [
    "!python -m spacy download en_core_web_sm"
   ]
  },
  {
   "cell_type": "markdown",
   "metadata": {},
   "source": [
    "## Text \"mining\" example ...\n",
    "\n",
    "This will extract things in the text that look like people's names. Are there any problems?"
   ]
  },
  {
   "cell_type": "code",
   "execution_count": null,
   "metadata": {},
   "outputs": [],
   "source": [
    "label = 'PERSON' # you could change this to ORG or LOCATION or NORP and some other things.\n",
    "\n",
    "nlp = spacy.load(\"en_core_web_sm\")\n",
    "doc = nlp('\\n\\n'.join(texts))\n",
    "\n",
    "for ent in doc.ents:\n",
    "    if ent.label_ == label:\n",
    "        print(ent.text, ent.label_)"
   ]
  },
  {
   "cell_type": "markdown",
   "metadata": {},
   "source": [
    "## Create a wordcloud for our texts ..."
   ]
  },
  {
   "cell_type": "code",
   "execution_count": null,
   "metadata": {},
   "outputs": [],
   "source": [
    "wordcloud = WordCloud(background_color=\"white\", width=1200, height=800, max_words=100).generate_from_text('\\n\\n'.join(texts))\n",
    "wordcloud.recolor(color_func = digi.black_color_func)\n",
    "plt.figure(figsize=[15,10])\n",
    "plt.imshow(wordcloud, interpolation=\"bilinear\")\n",
    "plt.axis(\"off\")"
   ]
  },
  {
   "cell_type": "markdown",
   "metadata": {},
   "source": [
    "## Look closer"
   ]
  },
  {
   "cell_type": "code",
   "execution_count": null,
   "metadata": {},
   "outputs": [],
   "source": [
    "word = 'government'\n",
    "lines = 50\n",
    "\n",
    "reader = PlaintextCorpusReader(corpus_dir, '.*')\n",
    "text = Text(reader.words())\n",
    "text.concordance(word, width=100, lines=lines)"
   ]
  },
  {
   "cell_type": "code",
   "execution_count": null,
   "metadata": {},
   "outputs": [],
   "source": []
  }
 ],
 "metadata": {
  "kernelspec": {
   "display_name": "Python 3",
   "language": "python",
   "name": "python3"
  },
  "language_info": {
   "codemirror_mode": {
    "name": "ipython",
    "version": 3
   },
   "file_extension": ".py",
   "mimetype": "text/x-python",
   "name": "python",
   "nbconvert_exporter": "python",
   "pygments_lexer": "ipython3",
   "version": "3.7.3"
  }
 },
 "nbformat": 4,
 "nbformat_minor": 2
}
